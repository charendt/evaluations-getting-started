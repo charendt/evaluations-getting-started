{
 "cells": [
  {
   "cell_type": "markdown",
   "metadata": {},
   "source": [
    "## Basic Groundedness Evaluation\n",
    "\n",
    "> ⚠️ **Note:** Test data is provided as static code.\n",
    "\n",
    "> ⚠️ **Note:** The evaluation run will not be shown in AI Foundry"
   ]
  },
  {
   "cell_type": "markdown",
   "metadata": {},
   "source": [
    "## Setup"
   ]
  },
  {
   "cell_type": "code",
   "execution_count": 5,
   "metadata": {},
   "outputs": [
    {
     "data": {
      "text/plain": [
       "True"
      ]
     },
     "execution_count": 5,
     "metadata": {},
     "output_type": "execute_result"
    }
   ],
   "source": [
    "import os\n",
    "from dotenv import load_dotenv\n",
    "from azure.identity import DefaultAzureCredential\n",
    "credential = DefaultAzureCredential()\n",
    "\n",
    "load_dotenv(override=True)"
   ]
  },
  {
   "cell_type": "markdown",
   "metadata": {},
   "source": [
    "## Configure the LLM Judge"
   ]
  },
  {
   "cell_type": "code",
   "execution_count": 6,
   "metadata": {},
   "outputs": [],
   "source": [
    "\n",
    "# Initialize Azure AI project and Azure OpenAI conncetion with your environment variables\n",
    "azure_ai_project = {\n",
    "    \"subscription_id\": os.environ.get(\"AZURE_SUBSCRIPTION_ID\"),\n",
    "    \"resource_group_name\": os.environ.get(\"AZURE_RESOURCE_GROUP\"),\n",
    "    \"project_name\": os.environ.get(\"AZURE_PROJECT_NAME\"),\n",
    "}\n",
    "\n",
    "model_config = {\n",
    "    \"azure_endpoint\": os.environ.get(\"AZURE_OPENAI_ENDPOINT\"),\n",
    "    \"api_key\": os.environ.get(\"AZURE_OPENAI_API_KEY\"),\n",
    "    \"azure_deployment\": os.environ.get(\"AZURE_OPENAI_DEPLOYMENT\"),\n",
    "    \"api_version\": os.environ.get(\"AZURE_OPENAI_API_VERSION\")\n",
    "}\n"
   ]
  },
  {
   "cell_type": "markdown",
   "metadata": {},
   "source": [
    "## Define your Evaluator"
   ]
  },
  {
   "cell_type": "code",
   "execution_count": null,
   "metadata": {},
   "outputs": [],
   "source": [
    "# Choose between Groundedness and Groundedness Pro Evaluator\n",
    "USE_GROUNDEDNESS_PRO = False\n",
    "\n",
    "if USE_GROUNDEDNESS_PRO:\n",
    "    from azure.ai.evaluation import GroundednessProEvaluator\n",
    "    groundedness_eval = GroundednessProEvaluator(azure_ai_project=azure_ai_project, credential=credential)\n",
    "else:\n",
    "    from azure.ai.evaluation import GroundednessEvaluator\n",
    "    groundedness_eval = GroundednessEvaluator(model_config)"
   ]
  },
  {
   "cell_type": "markdown",
   "metadata": {},
   "source": [
    "## Evaluate your Query and Response"
   ]
  },
  {
   "cell_type": "code",
   "execution_count": null,
   "metadata": {},
   "outputs": [
    {
     "data": {
      "text/plain": [
       "{'groundedness': 3.0,\n",
       " 'gpt_groundedness': 3.0,\n",
       " 'groundedness_reason': 'The response attempts to answer the query but contradicts the context by providing incorrect information.'}"
      ]
     },
     "execution_count": 8,
     "metadata": {},
     "output_type": "execute_result"
    }
   ],
   "source": [
    "# This is an example of a query and response pair with a context\n",
    "query_response = dict(\n",
    "    query=\"Which tent is the most waterproof?\",\n",
    "    context=\"The Alpine Explorer Tent is the most water-proof of all tents available.\",\n",
    "    response=\"The Mont Blanc Tent is the most waterproof.\"\n",
    ")\n",
    "\n",
    "# Running Groundedness Evaluator on a query and response pair\n",
    "groundedness_score = groundedness_eval(\n",
    "    **query_response\n",
    ")\n",
    "\n",
    "groundedness_score"
   ]
  },
  {
   "cell_type": "markdown",
   "metadata": {},
   "source": [
    "### Sample with the full Q&A Evaluator"
   ]
  },
  {
   "cell_type": "code",
   "execution_count": 9,
   "metadata": {},
   "outputs": [
    {
     "name": "stdout",
     "output_type": "stream",
     "text": [
      "{\n",
      "  \"f1_score\": 0.6666666666666666,\n",
      "  \"similarity\": 5.0,\n",
      "  \"gpt_similarity\": 5.0,\n",
      "  \"groundedness\": 5.0,\n",
      "  \"gpt_groundedness\": 5.0,\n",
      "  \"groundedness_reason\": \"The response is fully correct and complete, directly addressing the query with precise information from the context.\",\n",
      "  \"coherence\": 4.0,\n",
      "  \"gpt_coherence\": 4.0,\n",
      "  \"coherence_reason\": \"The response is coherent and directly answers the question, but it lacks elaboration or supporting details that could enhance its clarity and depth.\",\n",
      "  \"relevance\": 3.0,\n",
      "  \"gpt_relevance\": 3.0,\n",
      "  \"relevance_reason\": \"The response addresses the query but omits key details necessary for a comprehensive answer, such as why the Alpine Explorer Tent is the most waterproof or how it compares to others.\",\n",
      "  \"fluency\": 3.0,\n",
      "  \"gpt_fluency\": 3.0,\n",
      "  \"fluency_reason\": \"The response is clear and grammatically correct but lacks sentence complexity and varied vocabulary, which limits its fluency level.\"\n",
      "}\n"
     ]
    }
   ],
   "source": [
    "from azure.ai.evaluation import QAEvaluator\n",
    "import json\n",
    "\n",
    "qa_eval = QAEvaluator(model_config)\n",
    "\n",
    "query_response = dict(\n",
    "    query=\"Which tent is the most waterproof?\",\n",
    "    context=\"The Alpine Explorer Tent is the most water-proof of all tents available.\",\n",
    "    response=\"The Alpine Explorer Tent is the most waterproof.\",\n",
    "    ground_truth=\"The Alpine Explorer Tent.\"\n",
    ")\n",
    "\n",
    "qa_score = qa_eval(\n",
    "    **query_response\n",
    ")\n",
    "\n",
    "print(json.dumps(qa_score, indent=2))"
   ]
  }
 ],
 "metadata": {
  "kernelspec": {
   "display_name": ".venv",
   "language": "python",
   "name": "python3"
  },
  "language_info": {
   "codemirror_mode": {
    "name": "ipython",
    "version": 3
   },
   "file_extension": ".py",
   "mimetype": "text/x-python",
   "name": "python",
   "nbconvert_exporter": "python",
   "pygments_lexer": "ipython3",
   "version": "3.12.9"
  }
 },
 "nbformat": 4,
 "nbformat_minor": 2
}
